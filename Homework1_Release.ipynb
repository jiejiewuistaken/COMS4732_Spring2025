{
  "cells": [
    {
      "cell_type": "markdown",
      "metadata": {
        "id": "C6KDsJx99v-T"
      },
      "source": [
        "Homework 1: Image Processing\n",
        "==========\n",
        "\n",
        "> **Submission Instructions:** Before the deadline, export the completed notebook to PDF and upload it to GradeScope. The PDF should clearly show your code, and the result of running the code. Check the PDF to ensure that it is readable, the font-size is not small, and no information is cut-off. There will be no make-ups or extensions for corrupted/damaged/unreadable PDFs."
      ]
    },
    {
      "cell_type": "markdown",
      "source": [
        "**Names of Collaborators**:"
      ],
      "metadata": {
        "id": "GMZegl77i0K6"
      }
    },
    {
      "cell_type": "markdown",
      "source": [
        "The below commands will download the images needed for this problem set. Make sure you run it before you get started."
      ],
      "metadata": {
        "id": "LVUO1hTtVMWx"
      }
    },
    {
      "cell_type": "code",
      "source": [
        "!wget -qN https://www.cs.columbia.edu/~vondrick/class/coms4732/hw1/noisy_image.jpg\n",
        "!wget -qN https://www.cs.columbia.edu/~vondrick/class/coms4732/hw1/edge_detection_image.jpg\n",
        "!wget -qN https://www.cs.columbia.edu/~vondrick/class/coms4732/hw1/cat.jpg\n",
        "!wget -qN https://www.cs.columbia.edu/~vondrick/class/coms4732/hw1/dog.jpg"
      ],
      "metadata": {
        "id": "0RvyrK2PUvLA"
      },
      "execution_count": null,
      "outputs": []
    },
    {
      "cell_type": "markdown",
      "metadata": {
        "id": "uxpyDDM29v-b"
      },
      "source": [
        "Problem 1: Image Denoising\n",
        "==========================\n",
        "\n",
        "Taking pictures at night is challenging because there is less light that hits the film or camera sensor. To still capture an image in low light, we need to change our camera settings to capture more light. One way is to increase the exposure time, but if there is motion in the scene, this leads to blur. Another way is to use sensitive film that still responds to low intensity light. However, the trade-off is that this higher sensitivity increases the amount of noise captured, which often shows up as grain on photos. In this problem, your task is to clean up the noise with signal processing.\n",
        "\n"
      ]
    },
    {
      "cell_type": "markdown",
      "metadata": {
        "id": "7i5HeRow9v-c"
      },
      "source": [
        "Visualizing the Grain\n",
        "---------------------\n",
        "To start off, let's load up the image and visualize the image we want to denoise."
      ]
    },
    {
      "cell_type": "code",
      "execution_count": null,
      "metadata": {
        "id": "DfYrM2lz9v-c"
      },
      "outputs": [],
      "source": [
        "import numpy as np\n",
        "import matplotlib.pyplot as plt\n",
        "from PIL import Image\n",
        "from IPython import display\n",
        "from scipy.signal import convolve2d\n",
        "from math import *\n",
        "import time\n",
        "%matplotlib inline\n",
        "\n",
        "plt.rcParams['figure.figsize'] = [7, 7]\n",
        "\n",
        "def load_image(filename):\n",
        "    img = np.asarray(Image.open(filename))\n",
        "    img = img.astype(\"float32\") / 255.\n",
        "    return img\n",
        "\n",
        "def gray2rgb(image):\n",
        "    return np.repeat(np.expand_dims(image, 2), 3, axis=2)\n",
        "\n",
        "def show_image(img):\n",
        "    if len(img.shape) == 2:\n",
        "        img = gray2rgb(img)\n",
        "    plt.imshow(img, interpolation='nearest')\n",
        "\n",
        "# load the image\n",
        "im = load_image('noisy_image.jpg')\n",
        "im = im.mean(axis=2) # convert to grayscale\n",
        "show_image(im)"
      ]
    },
    {
      "cell_type": "markdown",
      "metadata": {
        "id": "2vFr7Xke9v-d"
      },
      "source": [
        "Problem 1a: Mean Filter using \"for\" loop\n",
        "-----------------------------------------\n",
        "\n",
        "Let's try to remove this grain with a mean filter. For every pixel in the image, we want to take an average (mean) of the neighboring pictures. Implement this operation using \"for\" loops and visualize the result:"
      ]
    },
    {
      "cell_type": "code",
      "execution_count": null,
      "metadata": {
        "id": "20t4_kpT9v-d"
      },
      "outputs": [],
      "source": [
        "im_pad = np.pad(im, 5, mode='constant')  # pad the border of the original image\n",
        "im_out = np.zeros_like(im)  # initialize the output image array\n",
        "\n",
        "''' TODO: Implement a mean filter using \"for\" loop here (modify the im_out matrix). '''\n",
        "\n",
        "# Define kernel size\n",
        "kernel_size = 11  # 5-pixel padding means a 11x11 kernel\n",
        "half_k = kernel_size // 2\n",
        "\n",
        "# Apply mean filter\n",
        "for i in range(im.shape[0]):\n",
        "    for j in range(im.shape[1]):\n",
        "        im_out[i, j] = np.mean(im_pad[i:i + kernel_size, j:j + kernel_size])\n",
        "\n",
        "\n",
        "show_image(im_out)"
      ]
    },
    {
      "cell_type": "markdown",
      "metadata": {
        "id": "vQi6-4L69v-d"
      },
      "source": [
        "Problem 1b: Implement the `convolve_image` function.\n",
        "-----------\n",
        "\n",
        "Convolution provides a mathematical way to apply filters to image. Implement the `convolve_image` function below using `for` loops. Your function should accept an image and a filter matrix, and return the result of convoling the image with the given filter matrix. Note: You cannot use a built-in convolution routine for this problem."
      ]
    },
    {
      "cell_type": "code",
      "execution_count": null,
      "metadata": {
        "id": "OuyDLJzh9v-e"
      },
      "outputs": [],
      "source": [
        "def convolve_image(image, filter_matrix):\n",
        "    ''' Convolve a 2D image using the filter matrix.\n",
        "    Args:\n",
        "        image: a 2D numpy array.\n",
        "        filter_matrix: a 2D numpy array.\n",
        "    Returns:\n",
        "        the convolved image, which is a 2D numpy array same size as the input image.\n",
        "\n",
        "    TODO: Implement the convolve_image function here.\n",
        "    '''\n",
        "    H, W = image.shape\n",
        "    Hk, Wk = filter_matrix.shape\n",
        "    im_pad = np.pad(im, Hk//2, mode='constant')  # pad the border of the original image\n",
        "    out = np.zeros_like(image)\n",
        "    filter_matrix = np.flip(filter_matrix)\n",
        "    for i in range(H):\n",
        "      for j in range(W):\n",
        "        out[i,j] = np.sum(im_pad[i:i+Hk, j:j+Wk] * filter_matrix)\n",
        "    return out"
      ]
    },
    {
      "cell_type": "markdown",
      "metadata": {
        "id": "XpDslxFv9v-e"
      },
      "source": [
        "Problem 1c: Mean Filter with Convolution\n",
        "----------------------------\n",
        "\n",
        "Implement this same operation with a convolution instead. Fill in the mean filter matrix here, and visualize the convolution result."
      ]
    },
    {
      "cell_type": "code",
      "execution_count": null,
      "metadata": {
        "id": "d096uiOJ9v-e"
      },
      "outputs": [],
      "source": [
        "mean_filt = 1/121 * np.ones((11,11))\n",
        "''' TODO: Create a mean filter matrix here. '''"
      ]
    },
    {
      "cell_type": "markdown",
      "metadata": {
        "id": "46uOhBX79v-f"
      },
      "source": [
        "Apply mean filter convolution using your `convolve_image` function and the `mean_filt` matrix."
      ]
    },
    {
      "cell_type": "code",
      "execution_count": null,
      "metadata": {
        "id": "zVF5RjTl9v-f"
      },
      "outputs": [],
      "source": [
        "my_implement_img = convolve_image(im, mean_filt)\n",
        "show_image(convolve_image(im, mean_filt))"
      ]
    },
    {
      "cell_type": "markdown",
      "metadata": {
        "id": "rDZmrWBE9v-f"
      },
      "source": [
        "Compare your convolution result with the `scipy.signal.convolve2d` function (they should look the same)."
      ]
    },
    {
      "cell_type": "code",
      "execution_count": null,
      "metadata": {
        "id": "zLtS1dsd9v-f"
      },
      "outputs": [],
      "source": [
        "builtin_implementation = convolve2d(im, mean_filt,mode='same')\n",
        "show_image(convolve2d(im, mean_filt))"
      ]
    },
    {
      "cell_type": "markdown",
      "metadata": {
        "id": "dG1oWlRD9v-f"
      },
      "source": [
        "Note: In the sections below, we will use the `scipy.signal.convolve2d` function for grading. But fill free to test your `convolve_image` function on other filters as well."
      ]
    },
    {
      "cell_type": "code",
      "source": [
        "np.allclose(my_implement_img, builtin_implementation)"
      ],
      "metadata": {
        "id": "-TiQ_ZQe8V45"
      },
      "execution_count": null,
      "outputs": []
    },
    {
      "cell_type": "markdown",
      "metadata": {
        "id": "eNymaZwt9v-g"
      },
      "source": [
        "Problem 1d: Gaussian Filter\n",
        "---------------\n",
        "\n",
        "Instead of using a mean filter, let's use a Gaussian filter. Create a 2D Gaussian filter, and plot the result of the convolution.\n",
        "\n",
        "Hint: You can first construct a one dimensional Gaussian, then use it to create a 2D dimensional Gaussian."
      ]
    },
    {
      "cell_type": "code",
      "execution_count": null,
      "metadata": {
        "id": "6m8KJspR9v-g"
      },
      "outputs": [],
      "source": [
        "def gaussian_filter(sigma, k=20):\n",
        "    '''\n",
        "    Args:\n",
        "        sigma: the standard deviation of Gaussian kernel.\n",
        "        k: controls size of the filter matrix.\n",
        "    Returns:\n",
        "        a 2D Gaussian filter matrix of the size (2k+1, 2k+1).\n",
        "\n",
        "    TODO: Implement a Gaussian filter here.\n",
        "    '''\n",
        "    size = 2*k+1\n",
        "    out = np.zeros((size,size))\n",
        "    x, y = np.meshgrid(np.arange(size), np.arange(size))  # 创建坐标网格\n",
        "    out = np.exp(-((x-k)**2 + (y-k)**2)/(2*sigma**2))\n",
        "    out /= np.sum(out)\n",
        "    return out\n",
        "\n",
        "\n",
        "\n",
        "show_image(convolve2d(im, gaussian_filter(2)))"
      ]
    },
    {
      "cell_type": "markdown",
      "metadata": {
        "id": "tDF2fr3g9v-g"
      },
      "source": [
        "The amount the image is blurred changes depending on the sigma parameter. Change the sigma parameter to see what happens. Try a few different values."
      ]
    },
    {
      "cell_type": "code",
      "execution_count": null,
      "metadata": {
        "id": "zHt3IDpp9v-h"
      },
      "outputs": [],
      "source": [
        "show_image(convolve2d(im, gaussian_filter(5)))"
      ]
    },
    {
      "cell_type": "markdown",
      "metadata": {
        "id": "IjfTIJwZ9v-h"
      },
      "source": [
        "Problem 1e: Visualizing Gaussian Filter\n",
        "---------------------------\n",
        "Try changing the sigma parameter below to visualize the Gaussian filter directly. This gives you an idea of how different sigma values create different convolved images."
      ]
    },
    {
      "cell_type": "code",
      "execution_count": null,
      "metadata": {
        "id": "_3pRuvqE9v-h"
      },
      "outputs": [],
      "source": [
        "plt.imshow(gaussian_filter(sigma=5))"
      ]
    },
    {
      "cell_type": "markdown",
      "metadata": {
        "id": "Wd4Q4yAX9v-h"
      },
      "source": [
        "Problem 2: Edge Detection\n",
        "=========================\n",
        "\n",
        "There are a variety of filters that we can use for different tasks. One such task is edge detection, which is useful for finding the boundaries regions in an image. In this part, your task is to use convolutions to find edges in images. Let's first load up an edgy image."
      ]
    },
    {
      "cell_type": "code",
      "execution_count": null,
      "metadata": {
        "id": "1lulMYLg9v-i"
      },
      "outputs": [],
      "source": [
        "im = load_image('edge_detection_image.jpg')\n",
        "im = im.mean(axis=2) # convert to grayscale\n",
        "show_image(im)"
      ]
    },
    {
      "cell_type": "markdown",
      "metadata": {
        "id": "t6H9Etqn9v-i"
      },
      "source": [
        "Problem 2a: Image Gradient Filters\n",
        "----------------------------------\n",
        "\n",
        "Implement a filter to detect gradients, and convolve it with the image.  Show the result."
      ]
    },
    {
      "cell_type": "code",
      "execution_count": null,
      "metadata": {
        "id": "MtmX2lDH9v-i"
      },
      "outputs": [],
      "source": [
        "# 什么filter可以detect gradient？\n",
        "# 对一个image 求x,y 的gradient相当于和某个filter做卷积\n",
        "filt = np.array([\n",
        "    [-1,0,1],\n",
        "    [-2,0,2],\n",
        "    [-1,0,1]\n",
        "])\n",
        "''' TODO: Implement filter here. '''\n",
        "\n",
        "plt.imshow(convolve2d(im, filt), cmap='gray')"
      ]
    },
    {
      "cell_type": "markdown",
      "metadata": {
        "id": "0F110IcY9v-i"
      },
      "source": [
        "Noise\n",
        "-----\n",
        "\n",
        "The issue with the basic gradient filters is that it is sensitive to noise in the image. Let's add some Gaussian noise to the image below, and visualize what happens. The edges should be hard to see."
      ]
    },
    {
      "cell_type": "code",
      "execution_count": null,
      "metadata": {
        "id": "fqVJY58Z9v-j"
      },
      "outputs": [],
      "source": [
        "im = load_image('edge_detection_image.jpg')\n",
        "im = im.mean(axis=2)\n",
        "im = im + 0.2*np.random.randn(*im.shape)\n",
        "\n",
        "f, axarr = plt.subplots(1,2)\n",
        "axarr[0].imshow(im, cmap='gray')\n",
        "axarr[1].imshow(convolve2d(im, filt), cmap='gray')"
      ]
    },
    {
      "cell_type": "markdown",
      "metadata": {
        "id": "w1_Kf4FS9v-j"
      },
      "source": [
        "Problem 2b: Laplacian Filters\n",
        "-----------------\n",
        "\n",
        "Laplacian filters are edge detectors that are robust to noise (Why is this? Think about how the filter is constructed.). Implement a Laplacian filter below for both horizontal and vertical edges."
      ]
    },
    {
      "cell_type": "code",
      "execution_count": null,
      "metadata": {
        "id": "tG9ElpXX9v-j"
      },
      "outputs": [],
      "source": [
        "# second derivative\n",
        "\n",
        "lap_x_filt = np.array([[ 1,  0, -1],\n",
        "                                  [ 2, -4,  2],\n",
        "                                  [ 1,  0, -1]])\n",
        "''' TODO: Implement a Laplacian filter for horizontal edges. '''\n",
        "lap_y_filt = np.array([[ 1,  2,  1],\n",
        "                                [ 0, -4,  0],\n",
        "                                [-1, -2, -1]])\n",
        "''' TODO: Implement a Laplacian filter for vertical edges. '''\n",
        "\n",
        "f, axarr = plt.subplots(2,2)\n",
        "axarr[0,0].imshow(convolve2d(im, lap_y_filt), cmap='gray')\n",
        "axarr[0,1].imshow(convolve2d(im, lap_x_filt), cmap='gray')\n",
        "axarr[1,0].imshow(lap_y_filt, cmap='gray')\n",
        "axarr[1,1].imshow(lap_x_filt, cmap='gray')"
      ]
    },
    {
      "cell_type": "markdown",
      "metadata": {
        "id": "psqkUBqd9v-k"
      },
      "source": [
        "Problem 3: Hybrid Images\n",
        "========================\n",
        "\n",
        "Hybrid images is a technique to combine two images in one. Depending on the distance you view the image, you will see a different image. This is done by merging the high-frequency components of one image with the low-frequency components of a second image. In this problem, you are going to use the Fourier transform to make these images. But first, let's visualize the two images we will merge together."
      ]
    },
    {
      "cell_type": "code",
      "execution_count": null,
      "metadata": {
        "id": "Bdbz3xjw9v-k"
      },
      "outputs": [],
      "source": [
        "from numpy.fft import fft2, fftshift, ifftshift, ifft2\n",
        "\n",
        "dog = load_image('dog.jpg').mean(axis=-1)[:, 25:-24]\n",
        "cat = load_image('cat.jpg').mean(axis=-1)[:, 25:-24]\n",
        "\n",
        "f, axarr = plt.subplots(1,2)\n",
        "axarr[0].imshow(dog, cmap='gray')\n",
        "axarr[1].imshow(cat, cmap='gray')"
      ]
    },
    {
      "cell_type": "markdown",
      "metadata": {
        "id": "si-6Iqf89v-k"
      },
      "source": [
        "Problem 3a: Fourier Transform\n",
        "-----------------\n",
        "\n",
        "In the code box below, compute the Fourier transform of the two images. You can use the fft2 function. You can also use the fftshift function, which may help in the next section."
      ]
    },
    {
      "cell_type": "code",
      "execution_count": null,
      "metadata": {
        "id": "rfaVY2In9v-k"
      },
      "outputs": [],
      "source": [
        "from scipy.fft import fft2, fftshift\n",
        "\n",
        "cat_fft = fftshift(fft2(cat))\n",
        "''' TODO: compute the Fourier transform of the cat. '''\n",
        "dog_fft = fftshift(fft2(dog))\n",
        "''' TODO: compute the Fourier transform of the dog. '''\n",
        "\n",
        "# Visualize the magnitude and phase of cat_fft. This is a complex number, so we visualize\n",
        "# the magnitude and angle of the complex number.\n",
        "# Curious fact: most of the information for natural images is stored in the phase (angle).\n",
        "f, axarr = plt.subplots(1,2)\n",
        "# 计算傅立叶变换的幅值（并取对数增强对比度）\n",
        "axarr[0].imshow(np.log(np.abs(cat_fft)), cmap='gray')\n",
        "# 计算傅立叶变换的相位信息\n",
        "axarr[1].imshow(np.angle(cat_fft), cmap='gray')"
      ]
    },
    {
      "cell_type": "markdown",
      "metadata": {
        "id": "1R_DqUkB9v-l"
      },
      "source": [
        "Problem 3b: Low and High Pass Filters\n",
        "-------------------------\n",
        "\n",
        "By masking the Fourier transform, you can compute both low and high pass of the images. In Fourier space, write code below to create the mask for a high pass filter of the cat, and the mask for a low pass filter of the dog. Then, convert back to image space and visualize these images.\n",
        "\n",
        "You may need to use the functions ifft2 and ifftshift."
      ]
    },
    {
      "cell_type": "code",
      "execution_count": null,
      "metadata": {
        "id": "XPsoJDAd9v-l"
      },
      "outputs": [],
      "source": [
        "# high_mask = None   ''' TODO: Create the mask for a high pass filter of the cat. '''\n",
        "# low_mask = None   ''' TODO: Create the mask for a low pass filter of the dog. '''\n",
        "\n",
        "# cat_filtered = None  ''' TODO: Apply the high pass filter on the cat and convert back to image space. '''\n",
        "# dog_filtered = None  ''' TODO: Apply the low pass filter on the dog and convert back to image space. '''\n",
        "\n",
        "# f, axarr = plt.subplots(1,2)\n",
        "# axarr[0].imshow(dog_filtered, cmap='gray')\n",
        "# axarr[1].imshow(cat_filtered, cmap='gray')\n",
        "\n",
        "\n",
        "from scipy.fft import fft2, ifft2, fftshift, ifftshift\n",
        "\n",
        "def create_circular_mask(shape, radius):\n",
        "    \"\"\"\n",
        "    生成一个圆形掩码\n",
        "    :param shape: (H, W) 形状\n",
        "    :param radius: 圆的半径\n",
        "    :return: 二值掩码，圆内为1，圆外为0\n",
        "    \"\"\"\n",
        "    H, W = shape\n",
        "    Y, X = np.ogrid[:H, :W]\n",
        "    center = (H // 2, W // 2)\n",
        "    mask = ((X - center[1])**2 + (Y - center[0])**2) <= radius**2\n",
        "    return mask\n",
        "\n",
        "# 生成高通和低通滤波掩码\n",
        "shape = cat.shape\n",
        "radius = 30  # 调整半径以改变滤波强度\n",
        "low_pass_mask = create_circular_mask(shape, radius)\n",
        "high_pass_mask = ~low_pass_mask\n",
        "\n",
        "# 应用掩码\n",
        "cat_high_pass = cat_fft * high_pass_mask\n",
        "dog_low_pass = dog_fft * low_pass_mask\n",
        "\n",
        "# 进行 ifftshift 再转换回时域\n",
        "cat_filtered = np.abs(ifft2(ifftshift(cat_high_pass)))\n",
        "dog_filtered = np.abs(ifft2(ifftshift(dog_low_pass)))\n",
        "\n",
        "# 显示结果\n",
        "fig, axarr = plt.subplots(2, 2, figsize=(12, 8))\n",
        "\n",
        "# 原始图像\n",
        "axarr[0, 0].imshow(cat, cmap='gray')\n",
        "axarr[0, 0].set_title(\"Original Cat\")\n",
        "axarr[0, 0].axis(\"off\")\n",
        "\n",
        "axarr[1, 0].imshow(dog, cmap='gray')\n",
        "axarr[1, 0].set_title(\"Original Dog\")\n",
        "axarr[1, 0].axis(\"off\")\n",
        "\n",
        "# 低通滤波后的狗\n",
        "axarr[1, 1].imshow(dog_filtered, cmap='gray')\n",
        "axarr[1, 1].set_title(\"Low-pass Filtered Dog\")\n",
        "axarr[1, 1].axis(\"off\")\n",
        "\n",
        "# 高通滤波后的猫\n",
        "axarr[0, 1].imshow(cat_filtered, cmap='gray')\n",
        "axarr[0, 1].set_title(\"High-pass Filtered Cat\")\n",
        "axarr[0, 1].axis(\"off\")\n",
        "\n",
        "plt.show()\n"
      ]
    },
    {
      "cell_type": "markdown",
      "metadata": {
        "id": "q-9arTvh9v-n"
      },
      "source": [
        "Problem 3c: Hybrid Image Results\n",
        "--------------------\n",
        "\n",
        "Now that we have the high pass and low pass fitlered images, we can create a hybrid image by adding them. Write the code to combine the images below, and visualize the hybrd image.\n",
        "\n",
        "Depending on whether you are close or far away from your monitor, you should see either a cat or a dog.  Try creating a few different hybrid images from your own photos or photos you found. Submit them, and we will show the coolest ones in class."
      ]
    },
    {
      "cell_type": "code",
      "execution_count": null,
      "metadata": {
        "id": "4GrYzrc19v-n"
      },
      "outputs": [],
      "source": [
        "hybrid = cat_filtered + dog_filtered\n",
        "\n",
        "''' TODO: Compute the hybrid image here. '''\n",
        "\n",
        "plt.imshow(hybrid, cmap='gray')"
      ]
    },
    {
      "cell_type": "markdown",
      "metadata": {
        "id": "JRfn4Ahu9v-o"
      },
      "source": [
        "Acknowledgements\n",
        "----------------\n",
        "\n",
        "This homework is based on assignments from Aude Oliva at MIT, and James Hays at Georgia Tech."
      ]
    }
  ],
  "metadata": {
    "anaconda-cloud": {},
    "colab": {
      "provenance": [],
      "private_outputs": true
    },
    "kernelspec": {
      "display_name": "Python 3",
      "name": "python3"
    },
    "language_info": {
      "codemirror_mode": {
        "name": "ipython",
        "version": 3
      },
      "file_extension": ".py",
      "mimetype": "text/x-python",
      "name": "python",
      "nbconvert_exporter": "python",
      "pygments_lexer": "ipython3",
      "version": "3.10.6"
    }
  },
  "nbformat": 4,
  "nbformat_minor": 0
}